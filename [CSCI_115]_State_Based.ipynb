{
  "cells": [
    {
      "cell_type": "markdown",
      "metadata": {
        "id": "AimdNjHmLMGD"
      },
      "source": [
        "# Creating our State Class\n",
        "\n",
        "First we will create a State class, this will be an object that represents each state in our DFA."
      ]
    },
    {
      "cell_type": "code",
      "execution_count": null,
      "metadata": {
        "id": "AyPEMje3LKc0"
      },
      "outputs": [],
      "source": [
        "#Our state class\n",
        "class State:\n",
        "    #constructor\n",
        "    def __init__(self):\n",
        "        self.transitionDict = {}\n",
        "        self.endStateBool = False\n",
        "        self.startStateBool = False\n",
        "\n",
        "    #Setting the state transition functions in the form of a python dictionary.\n",
        "    def setDict(self, inputDict):\n",
        "        self.transitionDict = inputDict\n",
        "\n",
        "    #Setting if the state is an end state or not.\n",
        "    def setEndState(self, endState):\n",
        "        self.endStateBool = endState\n",
        "\n",
        "    #Setting if the state is the start state or not.\n",
        "    def setStartState(self, startState):\n",
        "        self.startStateBool = startState\n",
        "\n",
        "    #Returns true if state is end state.\n",
        "    def isEndState(self):\n",
        "        return self.endStateBool\n",
        "\n",
        "    #Returns true if state is start state.\n",
        "    def isStartState(self):\n",
        "        return self.startStateBool\n",
        "\n",
        "    #Returns the index of the next state after processing input.\n",
        "    def getNewState(self, key):\n",
        "        return self.transitionDict[key]"
      ]
    },
    {
      "cell_type": "code",
      "source": [],
      "metadata": {
        "id": "0OiP_u5Uiw-k"
      },
      "execution_count": null,
      "outputs": []
    },
    {
      "cell_type": "code",
      "execution_count": null,
      "metadata": {
        "id": "me9asZErLd0L"
      },
      "outputs": [],
      "source": [
        "def runAutomata(autoList, autoString):\n",
        "\n",
        "    #Index of start state of the automata\n",
        "    autoStart = -1\n",
        "\n",
        "    #Counter for how many states in the Automata is set as a start state\n",
        "    startStateCount = 0\n",
        "\n",
        "    #Goes through the list of states, and sets autoState(Automata State) to whichever state where isStartState() == true\n",
        "    #It will also count how many states are listed as start states\n",
        "    for i in range(0, len(autoList)):\n",
        "        if autoList[i].isStartState():\n",
        "            autoStart = i\n",
        "            startStateCount += 1\n",
        "\n",
        "    #If more than one state listed as start state, returns this message\n",
        "    if startStateCount > 1:\n",
        "        return(\"There are too many start states\")\n",
        "\n",
        "    #If no start states are found, returns this message\n",
        "    if autoStart == -1:\n",
        "        return(\"Missing Start State\")\n",
        "\n",
        "    #If start state found, setting as the current state\n",
        "    autoCurrent = autoStart\n",
        "\n",
        "    #Rejects if string contains symbols that are not part of the alphabet\n",
        "    for i in autoString:\n",
        "      if i not in {\"a\", \"b\"}:\n",
        "        raise ValueError(\"Invalid input. Enter 'a' or 'b' only\")\n",
        "\n",
        "    #Goes through the input string\n",
        "    while(len(autoString) > 0):\n",
        "\n",
        "        #grabs the first character\n",
        "        autoChar = autoString[0]\n",
        "\n",
        "        #removes the first character from input string\n",
        "        autoString = autoString[1:]\n",
        "\n",
        "        #Iterates to the next state, according to the character plugged in\n",
        "        autoCurrent = autoList[autoCurrent].getNewState(autoChar)\n",
        "\n",
        "    #Once there are no more characters to process, checks if the state we end up with is an end state.\n",
        "    if autoList[autoCurrent].isEndState():\n",
        "        return(\"Accepted\")\n",
        "    else:\n",
        "        return(\"Rejected\")"
      ]
    },
    {
      "cell_type": "markdown",
      "metadata": {
        "id": "d1Rc-epduxz8"
      },
      "source": [
        "## Problem 1\n",
        "1. At least one a and at least one b\n",
        "2. Same parity"
      ]
    },
    {
      "cell_type": "code",
      "execution_count": null,
      "metadata": {
        "id": "6GWKH59DLnKq"
      },
      "outputs": [],
      "source": [
        "#Our list of states\n",
        "DFA01 = []\n",
        "\n",
        "#Populating it with new state objects\n",
        "for i in range(0,9):\n",
        "    DFA01.append(State())\n",
        "\n",
        "#Setting dictionaries for each state\n",
        "DFA01[0].setDict({\"a\":1, \"b\":2}) # START: no a, no b\n",
        "\n",
        "DFA01[1].setDict({\"a\":3, \"b\":4}) # odd a, no b\n",
        "DFA01[2].setDict({\"a\":4, \"b\":5}) # no a, odd b\n",
        "DFA01[3].setDict({\"a\":1, \"b\":6}) # even a, no b\n",
        "\n",
        "DFA01[4].setDict({\"a\":6, \"b\":7}) # odd a, odd b\n",
        "DFA01[5].setDict({\"a\":7, \"b\":2}) # no a, even b\n",
        "DFA01[6].setDict({\"a\":4, \"b\":8}) # even a, odd b\n",
        "DFA01[7].setDict({\"a\":8, \"b\":4}) # odd a, even b\n",
        "DFA01[8].setDict({\"a\":7, \"b\":6}) # even a, even b\n",
        "\n",
        "\n",
        "#Setting our start state and end state(s)\n",
        "DFA01[0].setStartState(True)\n",
        "DFA01[4].setEndState(True)  # odd a, odd b\n",
        "DFA01[8].setEndState(True)  # even a, even b"
      ]
    },
    {
      "cell_type": "code",
      "execution_count": null,
      "metadata": {
        "colab": {
          "base_uri": "https://localhost:8080/",
          "height": 555
        },
        "id": "o_foymLuL7aZ",
        "outputId": "2f61a542-06be-46f1-f3f2-12ebed81c637"
      },
      "outputs": [
        {
          "name": "stdout",
          "output_type": "stream",
          "text": [
            "Rejected\n",
            "Rejected\n",
            "Rejected\n",
            "Rejected\n",
            "Rejected\n",
            "Rejected\n",
            "Rejected\n",
            "Rejected\n",
            "Accepted\n",
            "Rejected\n",
            "Rejected\n",
            "Accepted\n"
          ]
        },
        {
          "ename": "ValueError",
          "evalue": "Invalid input. Enter 'a' or 'b' only",
          "output_type": "error",
          "traceback": [
            "\u001b[0;31m---------------------------------------------------------------------------\u001b[0m",
            "\u001b[0;31mValueError\u001b[0m                                Traceback (most recent call last)",
            "\u001b[0;32m<ipython-input-31-0f64bb43a335>\u001b[0m in \u001b[0;36m<cell line: 14>\u001b[0;34m()\u001b[0m\n\u001b[1;32m     12\u001b[0m \u001b[0mprint\u001b[0m\u001b[0;34m(\u001b[0m\u001b[0mrunAutomata\u001b[0m\u001b[0;34m(\u001b[0m\u001b[0mDFA01\u001b[0m\u001b[0;34m,\u001b[0m \u001b[0;34m\"bab\"\u001b[0m\u001b[0;34m)\u001b[0m\u001b[0;34m)\u001b[0m\u001b[0;34m\u001b[0m\u001b[0;34m\u001b[0m\u001b[0m\n\u001b[1;32m     13\u001b[0m \u001b[0mprint\u001b[0m\u001b[0;34m(\u001b[0m\u001b[0mrunAutomata\u001b[0m\u001b[0;34m(\u001b[0m\u001b[0mDFA01\u001b[0m\u001b[0;34m,\u001b[0m \u001b[0;34m\"bababa\"\u001b[0m\u001b[0;34m)\u001b[0m\u001b[0;34m)\u001b[0m\u001b[0;34m\u001b[0m\u001b[0;34m\u001b[0m\u001b[0m\n\u001b[0;32m---> 14\u001b[0;31m \u001b[0mprint\u001b[0m\u001b[0;34m(\u001b[0m\u001b[0mrunAutomata\u001b[0m\u001b[0;34m(\u001b[0m\u001b[0mDFA01\u001b[0m\u001b[0;34m,\u001b[0m \u001b[0;34m\"aabbc\"\u001b[0m\u001b[0;34m)\u001b[0m\u001b[0;34m)\u001b[0m\u001b[0;34m\u001b[0m\u001b[0;34m\u001b[0m\u001b[0m\n\u001b[0m",
            "\u001b[0;32m<ipython-input-28-2c4b073f8e9a>\u001b[0m in \u001b[0;36mrunAutomata\u001b[0;34m(autoList, autoString)\u001b[0m\n\u001b[1;32m     28\u001b[0m     \u001b[0;32mfor\u001b[0m \u001b[0mi\u001b[0m \u001b[0;32min\u001b[0m \u001b[0mautoString\u001b[0m\u001b[0;34m:\u001b[0m\u001b[0;34m\u001b[0m\u001b[0;34m\u001b[0m\u001b[0m\n\u001b[1;32m     29\u001b[0m       \u001b[0;32mif\u001b[0m \u001b[0mi\u001b[0m \u001b[0;32mnot\u001b[0m \u001b[0;32min\u001b[0m \u001b[0;34m{\u001b[0m\u001b[0;34m\"a\"\u001b[0m\u001b[0;34m,\u001b[0m \u001b[0;34m\"b\"\u001b[0m\u001b[0;34m}\u001b[0m\u001b[0;34m:\u001b[0m\u001b[0;34m\u001b[0m\u001b[0;34m\u001b[0m\u001b[0m\n\u001b[0;32m---> 30\u001b[0;31m         \u001b[0;32mraise\u001b[0m \u001b[0mValueError\u001b[0m\u001b[0;34m(\u001b[0m\u001b[0;34m\"Invalid input. Enter 'a' or 'b' only\"\u001b[0m\u001b[0;34m)\u001b[0m\u001b[0;34m\u001b[0m\u001b[0;34m\u001b[0m\u001b[0m\n\u001b[0m\u001b[1;32m     31\u001b[0m \u001b[0;34m\u001b[0m\u001b[0m\n\u001b[1;32m     32\u001b[0m     \u001b[0;31m#Goes through the input string\u001b[0m\u001b[0;34m\u001b[0m\u001b[0;34m\u001b[0m\u001b[0m\n",
            "\u001b[0;31mValueError\u001b[0m: Invalid input. Enter 'a' or 'b' only"
          ]
        }
      ],
      "source": [
        "print(runAutomata(DFA01, \"b\"))\n",
        "print(runAutomata(DFA01, \"aab\"))\n",
        "print(runAutomata(DFA01, \"aabbbbbbbbb\"))\n",
        "print(runAutomata(DFA01, \"aaaab\"))\n",
        "\n",
        "print(runAutomata(DFA01, \"aaa\"))\n",
        "print(runAutomata(DFA01, \"b\"))\n",
        "print(runAutomata(DFA01, \"aa\"))\n",
        "print(runAutomata(DFA01, \"bb\"))\n",
        "print(runAutomata(DFA01, \"ba\"))\n",
        "print(runAutomata(DFA01, \"aba\"))\n",
        "print(runAutomata(DFA01, \"bab\"))\n",
        "print(runAutomata(DFA01, \"bababa\"))\n",
        "print(runAutomata(DFA01, \"aabbc\"))"
      ]
    },
    {
      "cell_type": "markdown",
      "metadata": {
        "id": "twxJzLYsvM2e"
      },
      "source": [
        "## Problem 2\n",
        "1. At least one a, at least one b\n",
        "2. Different parity\n",
        "\n"
      ]
    },
    {
      "cell_type": "code",
      "execution_count": null,
      "metadata": {
        "id": "sKkBWmwQvPu4"
      },
      "outputs": [],
      "source": [
        "#Our list of states\n",
        "DFA02 = []\n",
        "\n",
        "#Populating it with new state objects\n",
        "for i in range(0,9):\n",
        "    DFA02.append(State())\n",
        "\n",
        "#Setting dictionaries for each state\n",
        "DFA02[0].setDict({\"a\":1, \"b\":2}) # START: no a, no b\n",
        "\n",
        "DFA02[1].setDict({\"a\":3, \"b\":4}) # odd a, no b\n",
        "DFA02[2].setDict({\"a\":4, \"b\":5}) # no a, odd b\n",
        "DFA02[3].setDict({\"a\":1, \"b\":6}) # even a, no b\n",
        "\n",
        "DFA02[4].setDict({\"a\":6, \"b\":7}) # odd a, odd b\n",
        "DFA02[5].setDict({\"a\":7, \"b\":2}) # no a, even b\n",
        "DFA02[6].setDict({\"a\":4, \"b\":8}) # even a, odd b\n",
        "DFA02[7].setDict({\"a\":8, \"b\":4}) # odd a, even b\n",
        "DFA02[8].setDict({\"a\":7, \"b\":6}) # even a, even b\n",
        "\n",
        "\n",
        "#Setting our start state and end state(s)\n",
        "DFA02[0].setStartState(True)\n",
        "DFA02[6].setEndState(True)  # even a, odd b\n",
        "DFA02[7].setEndState(True)  # odd a, even b"
      ]
    },
    {
      "cell_type": "code",
      "execution_count": null,
      "metadata": {
        "colab": {
          "base_uri": "https://localhost:8080/",
          "height": 609
        },
        "id": "rG_1YC6QL9A6",
        "outputId": "cb510236-c21f-4b7e-9ec9-af6adfe494d3"
      },
      "outputs": [
        {
          "name": "stdout",
          "output_type": "stream",
          "text": [
            "Rejected\n",
            "Rejected\n",
            "Rejected\n",
            "Rejected\n",
            "Rejected\n",
            "Rejected\n",
            "Rejected\n",
            "Rejected\n",
            "Rejected\n",
            "Rejected\n",
            "Accepted\n",
            "Accepted\n",
            "Rejected\n",
            "Accepted\n",
            "Accepted\n"
          ]
        },
        {
          "ename": "ValueError",
          "evalue": "Invalid input. Enter 'a' or 'b' only",
          "output_type": "error",
          "traceback": [
            "\u001b[0;31m---------------------------------------------------------------------------\u001b[0m",
            "\u001b[0;31mValueError\u001b[0m                                Traceback (most recent call last)",
            "\u001b[0;32m<ipython-input-39-ae0e1bd7a0a5>\u001b[0m in \u001b[0;36m<cell line: 17>\u001b[0;34m()\u001b[0m\n\u001b[1;32m     15\u001b[0m \u001b[0mprint\u001b[0m\u001b[0;34m(\u001b[0m\u001b[0mrunAutomata\u001b[0m\u001b[0;34m(\u001b[0m\u001b[0mDFA02\u001b[0m\u001b[0;34m,\u001b[0m \u001b[0;34m\"baaaa\"\u001b[0m\u001b[0;34m)\u001b[0m\u001b[0;34m)\u001b[0m\u001b[0;34m\u001b[0m\u001b[0;34m\u001b[0m\u001b[0m\n\u001b[1;32m     16\u001b[0m \u001b[0mprint\u001b[0m\u001b[0;34m(\u001b[0m\u001b[0mrunAutomata\u001b[0m\u001b[0;34m(\u001b[0m\u001b[0mDFA02\u001b[0m\u001b[0;34m,\u001b[0m \u001b[0;34m\"aabaa\"\u001b[0m\u001b[0;34m)\u001b[0m\u001b[0;34m)\u001b[0m\u001b[0;34m\u001b[0m\u001b[0;34m\u001b[0m\u001b[0m\n\u001b[0;32m---> 17\u001b[0;31m \u001b[0mprint\u001b[0m\u001b[0;34m(\u001b[0m\u001b[0mrunAutomata\u001b[0m\u001b[0;34m(\u001b[0m\u001b[0mDFA02\u001b[0m\u001b[0;34m,\u001b[0m \u001b[0;34m\"ac\"\u001b[0m\u001b[0;34m)\u001b[0m\u001b[0;34m)\u001b[0m\u001b[0;34m\u001b[0m\u001b[0;34m\u001b[0m\u001b[0m\n\u001b[0m",
            "\u001b[0;32m<ipython-input-28-2c4b073f8e9a>\u001b[0m in \u001b[0;36mrunAutomata\u001b[0;34m(autoList, autoString)\u001b[0m\n\u001b[1;32m     28\u001b[0m     \u001b[0;32mfor\u001b[0m \u001b[0mi\u001b[0m \u001b[0;32min\u001b[0m \u001b[0mautoString\u001b[0m\u001b[0;34m:\u001b[0m\u001b[0;34m\u001b[0m\u001b[0;34m\u001b[0m\u001b[0m\n\u001b[1;32m     29\u001b[0m       \u001b[0;32mif\u001b[0m \u001b[0mi\u001b[0m \u001b[0;32mnot\u001b[0m \u001b[0;32min\u001b[0m \u001b[0;34m{\u001b[0m\u001b[0;34m\"a\"\u001b[0m\u001b[0;34m,\u001b[0m \u001b[0;34m\"b\"\u001b[0m\u001b[0;34m}\u001b[0m\u001b[0;34m:\u001b[0m\u001b[0;34m\u001b[0m\u001b[0;34m\u001b[0m\u001b[0m\n\u001b[0;32m---> 30\u001b[0;31m         \u001b[0;32mraise\u001b[0m \u001b[0mValueError\u001b[0m\u001b[0;34m(\u001b[0m\u001b[0;34m\"Invalid input. Enter 'a' or 'b' only\"\u001b[0m\u001b[0;34m)\u001b[0m\u001b[0;34m\u001b[0m\u001b[0;34m\u001b[0m\u001b[0m\n\u001b[0m\u001b[1;32m     31\u001b[0m \u001b[0;34m\u001b[0m\u001b[0m\n\u001b[1;32m     32\u001b[0m     \u001b[0;31m#Goes through the input string\u001b[0m\u001b[0;34m\u001b[0m\u001b[0;34m\u001b[0m\u001b[0m\n",
            "\u001b[0;31mValueError\u001b[0m: Invalid input. Enter 'a' or 'b' only"
          ]
        }
      ],
      "source": [
        "print(runAutomata(DFA02, \"ab\"))\n",
        "print(runAutomata(DFA02, \"aaab\"))\n",
        "print(runAutomata(DFA02, \"ba\"))\n",
        "print(runAutomata(DFA02, \"aabaab\"))\n",
        "print(runAutomata(DFA02, \"aabaabbb\"))\n",
        "\n",
        "print(runAutomata(DFA02, \"aaa\"))\n",
        "print(runAutomata(DFA02, \"b\"))\n",
        "print(runAutomata(DFA02, \"aa\"))\n",
        "print(runAutomata(DFA02, \"bb\"))\n",
        "print(runAutomata(DFA02, \"ba\"))\n",
        "print(runAutomata(DFA02, \"aba\"))\n",
        "print(runAutomata(DFA02, \"bab\"))\n",
        "print(runAutomata(DFA02, \"bababa\"))\n",
        "print(runAutomata(DFA02, \"baaaa\"))\n",
        "print(runAutomata(DFA02, \"aabaa\"))\n",
        "print(runAutomata(DFA02, \"ac\"))"
      ]
    },
    {
      "cell_type": "markdown",
      "metadata": {
        "id": "vheg3JAx4XYO"
      },
      "source": [
        "## Problem 3\n",
        "\n",
        "Design a DFA that accepts the language {Python, is, not, fun, great, easy, difficult, boring, ugly}\n",
        "\n",
        "Where the sentence should begin with \"Python is\" (Note that these are two separate words)\n",
        "followed by an adjective or followed by \"not\" then followed by an adjective.\n",
        "\n",
        "For instance:\n",
        "\"Python is great\"\n",
        "\"Python is not boring\"\n",
        "\"Python is not fun\"\n",
        "\"Python is ugly\"\n",
        "\n",
        "The DFA should not accept the following examples:\n",
        "\"Python is easy great\"\n",
        "\"Java is boring\"\n",
        "\"Python is not not ugly\"\n",
        "\n",
        "Create two end states, one for positive sentences, and one for negative sentences. Assume fun, great, and easy are positive adjectives and difficuly, boring, and ugly are negative adjectives. And that the inclusion of \"not\" converts these adjectives from positive to negative (or vice versa)\n",
        "\n",
        "For example:\n",
        "\"Python is great\" = positive\n",
        "\"Python is not great\" = negative\n",
        "\n",
        "Make your DFA be capable of determining 'which' end state it ends up in. Have it print \"Positive sentence\" or \"Negative sentence\" respective of which end state it reaches."
      ]
    },
    {
      "cell_type": "code",
      "execution_count": null,
      "metadata": {
        "id": "1ekMo8xt4ecR"
      },
      "outputs": [],
      "source": [
        "def runAutomata(autoList, autoString):\n",
        "\n",
        "    #Index of start state of the automata\n",
        "    autoStart = -1\n",
        "\n",
        "    #Counter for how many states in the Automata is set as a start state\n",
        "    startStateCount = 0\n",
        "\n",
        "    #Goes through the list of states, and sets autoState(Automata State) to whichever state where isStartState() == true\n",
        "    #It will also count how many states are listed as start states\n",
        "    for i in range(0, len(autoList)):\n",
        "        if autoList[i].isStartState():\n",
        "            autoStart = i\n",
        "            startStateCount += 1\n",
        "\n",
        "    #If more than one state listed as start state, returns this message\n",
        "    if startStateCount > 1:\n",
        "        return(\"There are too many start states\")\n",
        "\n",
        "    #If no start states are found, returns this message\n",
        "    if autoStart == -1:\n",
        "        return(\"Missing Start State\")\n",
        "\n",
        "    #If start state found, setting as the current state\n",
        "    autoCurrent = autoStart\n",
        "\n",
        "    #To put the words into a list\n",
        "    autoStringList = autoString.split(\" \")\n",
        "\n",
        "    #Reject inputs that are not in the alphabet\n",
        "    for i in autoString:\n",
        "      if i not in {\"Python\", \"is\", \"not\", \"fun\", \"great\", \"easy\", \"difficult\", \"boring\", \"ugly\"}:\n",
        "        raise ValueError(\"Invalid input.\")\n",
        "\n",
        "    #Goes through the input string\n",
        "    while(len(autoString) > 0):\n",
        "\n",
        "        #grabs the first character\n",
        "        autoChar = autoString[0]\n",
        "\n",
        "        #removes the first character from input string\n",
        "        autoString = autoString[1:]\n",
        "\n",
        "        #Iterates to the next state, according to the character plugged in\n",
        "        autoCurrent = autoList[autoCurrent].getNewState(autoChar)\n",
        "\n",
        "    #Once there are no more characters to process, checks if the state we end up with is an end state.\n",
        "    if autoList[autoCurrent].isEndState() and (autoCurrent == 4):\n",
        "        return(\"Positive sentence\")\n",
        "    elif autoList[autoCurrent].isEndState() and (autoCurrent == 5):\n",
        "        return(\"Negative sentence\")\n",
        "    else:\n",
        "        return(\"Rejected\")"
      ]
    },
    {
      "cell_type": "code",
      "execution_count": null,
      "metadata": {
        "colab": {
          "background_save": true,
          "base_uri": "https://localhost:8080/",
          "height": 251
        },
        "id": "NjU2lL8g5_3u",
        "outputId": "fc92bccb-ee89-416a-a979-b92d4f86b6ae"
      },
      "outputs": [
        {
          "ename": "NameError",
          "evalue": "name 'DFA02' is not defined",
          "output_type": "error",
          "traceback": [
            "\u001b[0;31m---------------------------------------------------------------------------\u001b[0m",
            "\u001b[0;31mNameError\u001b[0m                                 Traceback (most recent call last)",
            "\u001b[0;32m<ipython-input-4-80a84ada6235>\u001b[0m in \u001b[0;36m<cell line: 5>\u001b[0;34m()\u001b[0m\n\u001b[1;32m      4\u001b[0m \u001b[0;31m#Populating it with new state objects\u001b[0m\u001b[0;34m\u001b[0m\u001b[0;34m\u001b[0m\u001b[0m\n\u001b[1;32m      5\u001b[0m \u001b[0;32mfor\u001b[0m \u001b[0mi\u001b[0m \u001b[0;32min\u001b[0m \u001b[0mrange\u001b[0m\u001b[0;34m(\u001b[0m\u001b[0;36m0\u001b[0m\u001b[0;34m,\u001b[0m\u001b[0;36m6\u001b[0m\u001b[0;34m)\u001b[0m\u001b[0;34m:\u001b[0m\u001b[0;34m\u001b[0m\u001b[0;34m\u001b[0m\u001b[0m\n\u001b[0;32m----> 6\u001b[0;31m     \u001b[0mDFA02\u001b[0m\u001b[0;34m.\u001b[0m\u001b[0mappend\u001b[0m\u001b[0;34m(\u001b[0m\u001b[0mState\u001b[0m\u001b[0;34m(\u001b[0m\u001b[0;34m)\u001b[0m\u001b[0;34m)\u001b[0m\u001b[0;34m\u001b[0m\u001b[0;34m\u001b[0m\u001b[0m\n\u001b[0m\u001b[1;32m      7\u001b[0m \u001b[0;34m\u001b[0m\u001b[0m\n\u001b[1;32m      8\u001b[0m \u001b[0;31m#Setting dictionaries for each state\u001b[0m\u001b[0;34m\u001b[0m\u001b[0;34m\u001b[0m\u001b[0m\n",
            "\u001b[0;31mNameError\u001b[0m: name 'DFA02' is not defined"
          ]
        }
      ],
      "source": [
        "#Our list of states\n",
        "DFA03 = []\n",
        "\n",
        "#Populating it with new state objects\n",
        "for i in range(0,6):\n",
        "    DFA02.append(State())\n",
        "\n",
        "#Setting dictionaries for each state\n",
        "\n",
        "#START\n",
        "DFA03[0].setDict(\n",
        "    {\"Python\":2,\n",
        "     \"is\":1,\n",
        "     \"not\":1,\n",
        "     \"fun\":1 ,\n",
        "     \"great\":1,\n",
        "     \"easy\":1,\n",
        "     \"difficult\":1,\n",
        "     \"boring\":1,\n",
        "     \"ugly\":1})\n",
        "\n",
        "\n",
        "# Invalid strings\"\n",
        "DFA03[1].setDict(\n",
        "    {\"Python\":1,\n",
        "     \"is\":1,\n",
        "     \"not\":1,\n",
        "     \"fun\":1 ,\n",
        "     \"great\":1,\n",
        "     \"easy\":1,\n",
        "     \"difficult\":1,\n",
        "     \"boring\":1,\n",
        "     \"ugly\":1})\n",
        "\n",
        "# \"Python\"\n",
        "DFA03[2].setDict(\n",
        "    {\"Python\":1,\n",
        "     \"is\":3,\n",
        "     \"not\":1,\n",
        "     \"fun\":1 ,\n",
        "     \"great\":1,\n",
        "     \"easy\":1,\n",
        "     \"difficult\":1,\n",
        "     \"boring\":1,\n",
        "     \"ugly\":1})\n",
        "\n",
        "# \"Python is\"\n",
        "DFA03[3].setDict(\n",
        "    {\"Python\":1,\n",
        "     \"is\":1,\n",
        "     \"not\":6,\n",
        "     \"fun\":4,\n",
        "     \"great\":4,\n",
        "     \"easy\":4,\n",
        "     \"difficult\":5,\n",
        "     \"boring\":5,\n",
        "     \"ugly\":5})\n",
        "\n",
        "# Positive sentence\n",
        "DFA03[4].setDict(\n",
        "    {\"Python\":1,\n",
        "     \"is\":1,\n",
        "     \"not\":1,\n",
        "     \"fun\":1,\n",
        "     \"great\":1,\n",
        "     \"easy\":1,\n",
        "     \"difficult\":1,\n",
        "     \"boring\":1,\n",
        "     \"ugly\":1})\n",
        "\n",
        "# Negative sentence\n",
        "DFA03[5].setDict(\n",
        "    {\"Python\":1,\n",
        "     \"is\":1,\n",
        "     \"not\":1,\n",
        "     \"fun\":1,\n",
        "     \"great\":1,\n",
        "     \"easy\":1,\n",
        "     \"difficult\":1,\n",
        "     \"boring\":1,\n",
        "     \"ugly\":1})\n",
        "\n",
        "# \"Python is not\"\n",
        "DFA03[6].setDict(\n",
        "    {\"Python\":1,\n",
        "     \"is\":1,\n",
        "     \"not\":1,\n",
        "     \"fun\":5,\n",
        "     \"great\":5,\n",
        "     \"easy\":5,\n",
        "     \"difficult\":4,\n",
        "     \"boring\":4,\n",
        "     \"ugly\":4})\n",
        "\n",
        "#Setting our start state and end state(s)\n",
        "DFA02[0].setStartState(True)\n",
        "DFA02[4].setEndState(True)  # positive\n",
        "DFA02[5].setEndState(True)  # negative"
      ]
    },
    {
      "cell_type": "code",
      "execution_count": null,
      "metadata": {
        "id": "7wckHicn9bbg"
      },
      "outputs": [],
      "source": [
        "# test\n",
        "print(runAutomata(DFA03, \"Python is fun\"))\n",
        "print(runAutomata(DFA03, \"Python is not fun\"))\n",
        "print(runAutomata(DFA03, \"Python is boring\"))\n",
        "print(runAutomata(DFA03, \"Python is not boring\"))\n",
        "print(runAutomata(DFA03, \"Python is fun Python\"))\n",
        "print(runAutomata(DFA03, \"is Python is fun\"))\n",
        "print(runAutomata(DFA03, \"Python is not not fun\"))\n",
        "\n"
      ]
    }
  ],
  "metadata": {
    "colab": {
      "provenance": []
    },
    "kernelspec": {
      "display_name": "Python 3",
      "name": "python3"
    },
    "language_info": {
      "name": "python"
    }
  },
  "nbformat": 4,
  "nbformat_minor": 0
}